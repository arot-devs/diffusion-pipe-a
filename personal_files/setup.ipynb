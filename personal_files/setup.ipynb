{
 "cells": [
  {
   "cell_type": "code",
   "execution_count": 2,
   "metadata": {},
   "outputs": [
    {
     "name": "stdout",
     "output_type": "stream",
     "text": [
      "Cloning https://github.com/arot-devs/procslib\n"
     ]
    },
    {
     "name": "stderr",
     "output_type": "stream",
     "text": [
      "Cloning into '/lv0/yada/procslib'...\n"
     ]
    },
    {
     "name": "stdout",
     "output_type": "stream",
     "text": [
      "Done\n",
      "Cloning https://github.com/arot-devs/trainlib\n",
      "Done\n",
      "Cloning https://github.com/arot-devs/imagelib\n",
      "Done\n"
     ]
    },
    {
     "name": "stderr",
     "output_type": "stream",
     "text": [
      "fatal: could not read Username for 'https://github.com': No such device or address\n",
      "Cloning into '/lv0/yada/trainlib'...\n",
      "fatal: could not read Username for 'https://github.com': No such device or address\n",
      "Cloning into '/lv0/yada/imagelib'...\n",
      "fatal: could not read Username for 'https://github.com': No such device or address\n"
     ]
    }
   ],
   "source": [
    "# cloning latest of all libs to /lv0/yada/\n",
    "\n",
    "\n",
    "target_repos = [\n",
    "    \"https://github.com/arot-devs/procslib\",\n",
    "    \"https://github.com/arot-devs/trainlib\",\n",
    "    \"https://github.com/arot-devs/imagelib\"\n",
    "]\n",
    "\n",
    "import os\n",
    "import subprocess\n",
    "\n",
    "for repo in target_repos:\n",
    "    repo_name = repo.split(\"/\")[-1]\n",
    "    print(\"Cloning\", repo)\n",
    "    subprocess.run([\"git\", \"clone\", repo, f\"/lv0/yada/{repo_name}\"])\n",
    "    print(\"Done\")"
   ]
  }
 ],
 "metadata": {
  "kernelspec": {
   "display_name": "base",
   "language": "python",
   "name": "python3"
  },
  "language_info": {
   "codemirror_mode": {
    "name": "ipython",
    "version": 3
   },
   "file_extension": ".py",
   "mimetype": "text/x-python",
   "name": "python",
   "nbconvert_exporter": "python",
   "pygments_lexer": "ipython3",
   "version": "3.10.13"
  }
 },
 "nbformat": 4,
 "nbformat_minor": 2
}
