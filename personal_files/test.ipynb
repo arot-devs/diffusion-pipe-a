{
 "cells": [
  {
   "cell_type": "markdown",
   "metadata": {},
   "source": [
    "20241222 创建repo的过程:"
   ]
  },
  {
   "cell_type": "code",
   "execution_count": null,
   "metadata": {},
   "outputs": [],
   "source": [
    "!git clone --recurse-submodules https://github.com/tdrussell/diffusion-pipe\n",
    "\n",
    "\n",
    "!conda create -n diffusion-pipe python=3.12\n",
    "!conda activate diffusion-pipe\n",
    "\n",
    "!pip install xformers \"torch<2.4\" torchvision torchaudio --index-url https://download.pytorch.org/whl/cu121 -U \n",
    "!pip install -r requirements.txt"
   ]
  },
  {
   "cell_type": "markdown",
   "metadata": {},
   "source": []
  },
  {
   "cell_type": "code",
   "execution_count": null,
   "metadata": {},
   "outputs": [],
   "source": [
    "deepspeed --num_gpus=1 train.py --deepspeed --config personal_files/test_hunyuan_video.toml --regenerate_cache\n",
    "\n",
    "deepspeed --num_gpus=1 train.py --deepspeed --config personal_files/test_hunyuan_video.toml\n",
    "\n",
    "deepspeed --num_gpus=1 train.py --deepspeed --config personal_files/test_hunyuan_video_pixel.toml --regenerate_cache"
   ]
  },
  {
   "cell_type": "markdown",
   "metadata": {},
   "source": [
    "## comfyui:"
   ]
  },
  {
   "cell_type": "code",
   "execution_count": null,
   "metadata": {},
   "outputs": [],
   "source": [
    "conda create -n comfyui python=3.12\n",
    "\n",
    "# torch 2.5.1\n",
    "pip install -U torch torchvision torchaudio --extra-index-url https://download.pytorch.org/whl/cu124"
   ]
  },
  {
   "cell_type": "code",
   "execution_count": null,
   "metadata": {},
   "outputs": [],
   "source": [
    "# training_flow / setup_comfy\n",
    "import os\n",
    "\n",
    "def find_requirements_dirs(base_dir):\n",
    "    # Find all direct subdirectories with a requirements.txt\n",
    "    dirs_with_requirements = [\n",
    "        os.path.join(base_dir, d)\n",
    "        for d in os.listdir(base_dir)\n",
    "        if os.path.isdir(os.path.join(base_dir, d)) and os.path.exists(os.path.join(base_dir, d, 'requirements.txt'))\n",
    "    ]\n",
    "    return dirs_with_requirements\n",
    "\n",
    "def generate_install_command(requirements_dirs):\n",
    "    # Generate the install command for each directory\n",
    "    command = ' && '.join(\n",
    "        [f'pip install -r {os.path.join(d, \"requirements.txt\")}' for d in requirements_dirs]\n",
    "    )\n",
    "    return command\n",
    "\n",
    "base_directory = '/rmt/yada/apps/comfyui/custom_nodes'\n",
    "requirements_dirs = find_requirements_dirs(base_directory)\n",
    "\n",
    "if requirements_dirs:\n",
    "    install_command = generate_install_command(requirements_dirs)\n",
    "    print(install_command)\n",
    "else:\n",
    "    print(\"No subdirectories with requirements.txt found.\")"
   ]
  }
 ],
 "metadata": {
  "kernelspec": {
   "display_name": "base",
   "language": "python",
   "name": "python3"
  },
  "language_info": {
   "name": "python",
   "version": "3.10.13"
  }
 },
 "nbformat": 4,
 "nbformat_minor": 2
}
